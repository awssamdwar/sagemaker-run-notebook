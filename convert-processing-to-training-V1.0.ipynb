{
 "cells": [
  {
   "cell_type": "markdown",
   "metadata": {},
   "source": [
    "# Convert Processing job with BYO container to Training job\n",
    "Please make sure to either only download this notebook and it will clone the repo for you.. or move it one level up (outside of repo folder) to get it to work"
   ]
  },
  {
   "cell_type": "markdown",
   "metadata": {},
   "source": [
    "## Clone repo"
   ]
  },
  {
   "cell_type": "code",
   "execution_count": 3,
   "metadata": {},
   "outputs": [
    {
     "name": "stdout",
     "output_type": "stream",
     "text": [
      "Cloning into 'sagemaker-run-notebook'...\n",
      "remote: Enumerating objects: 786, done.\u001b[K\n",
      "remote: Counting objects: 100% (394/394), done.\u001b[K\n",
      "remote: Compressing objects: 100% (184/184), done.\u001b[K\n",
      "remote: Total 786 (delta 294), reused 259 (delta 210), pack-reused 392\u001b[K\n",
      "Receiving objects: 100% (786/786), 1.04 MiB | 21.83 MiB/s, done.\n",
      "Resolving deltas: 100% (456/456), done.\n",
      "Checking out files: 100% (130/130), done.\n"
     ]
    }
   ],
   "source": [
    "!git clone https://github.com/awssamdwar/sagemaker-run-notebook.git"
   ]
  },
  {
   "cell_type": "markdown",
   "metadata": {},
   "source": [
    "## Setup SageMaker Studio Docker CLI Extension\n",
    "url: https://github.com/aws-samples/sagemaker-studio-docker-cli-extension <br>\n",
    "You can also use UI extension: https://github.com/aws-samples/sagemaker-studio-docker-ui-extension"
   ]
  },
  {
   "cell_type": "code",
   "execution_count": null,
   "metadata": {},
   "outputs": [
    {
     "name": "stdout",
     "output_type": "stream",
     "text": [
      "Successfully launched DockerHost on instance i-081e477e625b6b832 with private DNS ip-172-31-73-92.ap-southeast-2.compute.internal\n",
      "Waiting on docker host to be ready\n"
     ]
    }
   ],
   "source": [
    "!sdocker create-host --instance-type c5.2xlarge"
   ]
  },
  {
   "cell_type": "markdown",
   "metadata": {},
   "source": [
    "## Build example container"
   ]
  },
  {
   "cell_type": "code",
   "execution_count": null,
   "metadata": {},
   "outputs": [],
   "source": [
    "!cd 'sagemaker-run-notebook/container/' && ./build_and_push.sh run-notebook"
   ]
  },
  {
   "cell_type": "markdown",
   "metadata": {},
   "source": [
    "## Check docker images"
   ]
  },
  {
   "cell_type": "code",
   "execution_count": null,
   "metadata": {},
   "outputs": [],
   "source": [
    "!docker images"
   ]
  },
  {
   "cell_type": "markdown",
   "metadata": {},
   "source": [
    "## Local mode"
   ]
  },
  {
   "cell_type": "code",
   "execution_count": 20,
   "metadata": {},
   "outputs": [
    {
     "name": "stdout",
     "output_type": "stream",
     "text": [
      "/home/sagemaker-user/casework/convert-processing-to-training/sagemaker-run-notebook/container\n",
      "test.ipynb\n",
      "Executing test.ipynb with output to /opt/ml/processing/output/test-2022-11-23-16-08-51.ipynb\n",
      "Notebook params = {}\n",
      "\n",
      "Executing:   0%|          | 0/2 [00:00<?, ?cell/s]\n",
      "Executing:  50%|█████     | 1/2 [00:00<00:00,  1.03cell/s]\n",
      "Executing: 100%|██████████| 2/2 [00:01<00:00,  1.65cell/s]\n",
      "Execution complete\n",
      "Output was written to /opt/ml/processing/output/test-2022-11-23-16-08-51.ipynb\n"
     ]
    }
   ],
   "source": [
    "!cd 'sagemaker-run-notebook/container/' && ./run-local.sh run-notebook /home/sagemaker-user/casework/convert-processing-to-training/sagemaker-run-notebook/container/test.ipynb /home/sagemaker-user/casework/convert-processing-to-training/sagemaker-run-notebook/container/output"
   ]
  },
  {
   "cell_type": "code",
   "execution_count": 28,
   "metadata": {},
   "outputs": [
    {
     "name": "stdout",
     "output_type": "stream",
     "text": [
      "upload: ./test.ipynb to s3://sagemaker-samdwar/casework/processing-to-training/input/test.ipynb\n"
     ]
    }
   ],
   "source": [
    "!aws s3 cp test.ipynb s3://sagemaker-samdwar/casework/processing-to-training/input/"
   ]
  },
  {
   "cell_type": "code",
   "execution_count": 2,
   "metadata": {},
   "outputs": [],
   "source": [
    "image_uri = \"<account ID>.dkr.ecr.ap-southeast-2.amazonaws.com/run-notebook:latest\"\n",
    "role = \"arn:aws:iam::<Account ID>:role/<role name>\""
   ]
  },
  {
   "cell_type": "markdown",
   "metadata": {},
   "source": [
    "## Processing job"
   ]
  },
  {
   "cell_type": "code",
   "execution_count": null,
   "metadata": {},
   "outputs": [],
   "source": [
    "from sagemaker.processing import Processor, ProcessingInput, ProcessingOutput\n",
    "\n",
    "notebook_channel = ProcessingInput(source=\"test.ipynb\",\n",
    "                                   destination=\"/opt/ml/processing/input/notebook/\",\n",
    "                                   input_name=\"notebook\")\n",
    "\n",
    "output = ProcessingOutput(source=\"/opt/ml/processing/output/\",\n",
    "                          destination=\"s3://<S3 bucket>/processing-to-training/output/processing\")\n",
    "\n",
    "processor = Processor(role=role,\n",
    "                      image_uri=image_uri,\n",
    "                      instance_count=1,\n",
    "                      instance_type=\"ml.m5.xlarge\",\n",
    "                      entrypoint=[\"train\"],\n",
    "                      base_job_name=\"papermill-processing\", \n",
    "                      env={\n",
    "                          \"PAPERMILL_INPUT\":\"/opt/ml/processing/input/notebook/test.ipynb\",\n",
    "                          \"PAPERMILL_OUTPUT\":\"/opt/ml/processing/output/test-output.ipynb\",\n",
    "                          \"PAPERMILL_PARAMS\":\"{}\"\n",
    "                      })\n",
    "\n",
    "processor.run(inputs=[notebook_channel],\n",
    "              outputs=[output])"
   ]
  },
  {
   "cell_type": "markdown",
   "metadata": {},
   "source": [
    "## Training job"
   ]
  },
  {
   "cell_type": "code",
   "execution_count": 4,
   "metadata": {},
   "outputs": [
    {
     "name": "stdout",
     "output_type": "stream",
     "text": [
      "2022-12-01 22:18:32 Starting - Starting the training job...\n",
      "2022-12-01 22:18:48 Starting - Preparing the instances for training......\n",
      "2022-12-01 22:19:57 Downloading - Downloading input data...\n",
      "2022-12-01 22:20:22 Training - Downloading the training image...............\n",
      "2022-12-01 22:22:53 Training - Training image download completed. Training in progress.....\u001b[34mExecuting test.ipynb with output to /opt/ml/output/test-output.ipynb\u001b[0m\n",
      "\u001b[34mNotebook params = {}\u001b[0m\n",
      "\u001b[34mExecuting:   0%|          | 0/2 [00:00<?, ?cell/s]\u001b[0m\n",
      "\u001b[34mExecuting:  50%|█████     | 1/2 [00:00<00:00,  1.04cell/s]\u001b[0m\n",
      "\u001b[34mExecuting: 100%|██████████| 2/2 [00:01<00:00,  1.70cell/s]\u001b[0m\n",
      "\u001b[34mExecution complete\u001b[0m\n",
      "\u001b[34mOutput was written to /opt/ml/output/test-output.ipynb\u001b[0m\n",
      "\n",
      "2022-12-01 22:23:44 Uploading - Uploading generated training model\n",
      "2022-12-01 22:23:44 Completed - Training job completed\n",
      "Training seconds: 228\n",
      "Billable seconds: 228\n"
     ]
    }
   ],
   "source": [
    "from sagemaker.estimator import Estimator\n",
    "from sagemaker.inputs import FileSystemInput\n",
    "\n",
    "estimator = Estimator(image_uri=image_uri,\n",
    "                      role=role,\n",
    "                      instance_count=1,\n",
    "                      instance_type=\"ml.m5.xlarge\",\n",
    "                      base_job_name=\"papermill-training\",\n",
    "                      output_path=\"s3://<Bucket>/processing-to-training/output\",\n",
    "                      disable_profiler=True,\n",
    "                      environment={\n",
    "                          \"PAPERMILL_INPUT\":\"/opt/ml/input/data/notebook/test.ipynb\",\n",
    "                          \"PAPERMILL_OUTPUT\":\"/opt/ml/output/test-output.ipynb\",\n",
    "                          \"PAPERMILL_PARAMS\":\"{}\"\n",
    "                      })\n",
    "\n",
    "estimator.fit(inputs={\"notebook\": \"s3://<Bucket>/processing-to-training/input/test.ipynb\"})"
   ]
  },
  {
   "cell_type": "markdown",
   "metadata": {},
   "source": [
    "## Cleanup"
   ]
  },
  {
   "cell_type": "code",
   "execution_count": 41,
   "metadata": {},
   "outputs": [
    {
     "name": "stdout",
     "output_type": "stream",
     "text": [
      "default\n",
      "Current context is now \"default\"\n",
      "c5.2xlarge_i-08f7e08e32cf28f86\n",
      "Successfully terminated instance i-08f7e08e32cf28f86 with private DNS ip-172-31-67-25.ap-southeast-2.compute.internal\n"
     ]
    }
   ],
   "source": [
    "!sdocker terminate-current-host"
   ]
  },
  {
   "cell_type": "code",
   "execution_count": null,
   "metadata": {},
   "outputs": [],
   "source": []
  }
 ],
 "metadata": {
  "instance_type": "ml.m5.large",
  "kernelspec": {
   "display_name": "Python 3 (Data Science)",
   "language": "python",
   "name": "python3__SAGEMAKER_INTERNAL__arn:aws:sagemaker:ap-southeast-2:452832661640:image/datascience-1.0"
  },
  "language_info": {
   "codemirror_mode": {
    "name": "ipython",
    "version": 3
   },
   "file_extension": ".py",
   "mimetype": "text/x-python",
   "name": "python",
   "nbconvert_exporter": "python",
   "pygments_lexer": "ipython3",
   "version": "3.7.10"
  },
  "lcc_arn": "arn:aws:sagemaker:ap-southeast-2:734840029783:studio-lifecycle-config/sdocker-kg"
 },
 "nbformat": 4,
 "nbformat_minor": 4
}
